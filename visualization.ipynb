{
 "cells": [
  {
   "cell_type": "markdown",
   "source": [
    "# Visualisation of the Prediction Depth of CIFAR-10"
   ],
   "metadata": {
    "collapsed": false
   }
  },
  {
   "cell_type": "markdown",
   "source": [
    "### - Read output from `get_pd`"
   ],
   "metadata": {
    "collapsed": false
   }
  },
  {
   "cell_type": "code",
   "execution_count": 1,
   "outputs": [
    {
     "name": "stdout",
     "output_type": "stream",
     "text": [
      "-1\n"
     ]
    }
   ],
   "source": [
    "import os\n",
    "import json\n",
    "\n",
    "def read_pd_files(directory: str) -> tuple[list[str], list[dict]]:\n",
    "    \"\"\"\n",
    "    This function is going to read all .pkl file from a give directory\n",
    "    @param directory: ..\n",
    "    @return: ([file name list], [dict list])\n",
    "    \"\"\"\n",
    "    pd_dict_list = []\n",
    "    file_list = os.listdir(directory)\n",
    "    pkl_files = [file for file in file_list if file.endswith(\".pkl\")]\n",
    "\n",
    "    for pkl_file in pkl_files:\n",
    "        file_path = os.path.join(directory, pkl_file)\n",
    "        with open(file_path, \"rb\") as f:\n",
    "            dict_load = json.load(f)\n",
    "            pd_dict_list.append(dict_load)\n",
    "\n",
    "    return pkl_files, pd_dict_list\n",
    "\n",
    "\n",
    "pd_result_dir = os.path.join(os.getcwd(), \"cl_results_vgg\") # change the second argument to specify the result file\n",
    "file_name_list, pd_dict = read_pd_files(pd_result_dir)"
   ],
   "metadata": {
    "collapsed": false,
    "ExecuteTime": {
     "end_time": "2023-06-07T16:32:59.334995474Z",
     "start_time": "2023-06-07T16:32:59.302788244Z"
    }
   }
  },
  {
   "cell_type": "markdown",
   "source": [
    "### - Link `pd_dict` with CIFAR dataset"
   ],
   "metadata": {
    "collapsed": false
   }
  },
  {
   "cell_type": "code",
   "execution_count": 19,
   "outputs": [
    {
     "name": "stdout",
     "output_type": "stream",
     "text": [
      "Files already downloaded and verified\n",
      "Files already downloaded and verified\n"
     ]
    }
   ],
   "source": [
    "from torchvision.datasets import CIFAR10\n",
    "from torch.utils.data import DataLoader\n",
    "from torchvision.transforms import PILToTensor\n",
    "import matplotlib.pyplot as plt\n",
    "\n",
    "class CIFAR10PD(CIFAR10):\n",
    "    def __init__(self, root, train=True, transform=None, target_transform=None, download=False):\n",
    "        super(CIFAR10PD, self).__init__(root, train, transform, target_transform, download)\n",
    "\n",
    "    def __getitem__(self, index):\n",
    "        # to get (img, target), index\n",
    "        img, target = super(CIFAR10PD, self).__getitem__(index)\n",
    "        return PILToTensor()(img), target, index\n",
    "trainset = CIFAR10PD('./', train=False, download=True)\n",
    "testset = CIFAR10PD('./', train=True, download=True)\n",
    "\n",
    "dataloader_train = DataLoader(trainset, batch_size=1, shuffle=False)\n",
    "dataloader_test = DataLoader(testset, batch_size=1, shuffle=False)\n",
    "\n",
    "CIFAR_dict = {}\n",
    "\n",
    "for imgs, targets, indexes in dataloader_train:\n",
    "    for imgs, targets, index in zip(imgs, targets, indexes):\n",
    "        CIFAR_dict[index.item()] = (imgs, targets)\n",
    "for imgs, targets, indexes in dataloader_test:\n",
    "    for imgs, targets, index in zip(imgs, targets, indexes):\n",
    "        CIFAR_dict[index.item()] = (imgs, targets)"
   ],
   "metadata": {
    "collapsed": false,
    "ExecuteTime": {
     "end_time": "2023-06-07T16:43:32.606423006Z",
     "start_time": "2023-06-07T16:43:27.849982593Z"
    }
   }
  },
  {
   "cell_type": "code",
   "execution_count": 21,
   "outputs": [
    {
     "data": {
      "text/plain": "<Figure size 640x480 with 1 Axes>",
      "image/png": "[encoded data removed]"
     },
     "metadata": {},
     "output_type": "display_data"
    }
   ],
   "source": [
    "image_np = CIFAR_dict[0][0].numpy()\n",
    "image_np = image_np.transpose(1, 2, 0)\n",
    "\n",
    "# Plot the CIFAR-10 image\n",
    "plt.imshow(image_np)\n",
    "plt.axis('off')\n",
    "plt.show()"
   ],
   "metadata": {
    "collapsed": false,
    "ExecuteTime": {
     "end_time": "2023-06-07T16:45:05.139243785Z",
     "start_time": "2023-06-07T16:45:05.096245127Z"
    }
   }
  },
  {
   "cell_type": "code",
   "execution_count": null,
   "outputs": [],
   "source": [],
   "metadata": {
    "collapsed": false
   }
  }
 ],
 "metadata": {
  "kernelspec": {
   "display_name": "Python 3",
   "language": "python",
   "name": "python3"
  },
  "language_info": {
   "codemirror_mode": {
    "name": "ipython",
    "version": 2
   },
   "file_extension": ".py",
   "mimetype": "text/x-python",
   "name": "python",
   "nbconvert_exporter": "python",
   "pygments_lexer": "ipython2",
   "version": "2.7.6"
  }
 },
 "nbformat": 4,
 "nbformat_minor": 0
}
